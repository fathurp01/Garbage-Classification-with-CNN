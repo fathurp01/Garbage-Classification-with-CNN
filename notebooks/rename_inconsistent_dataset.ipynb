{
 "cells": [
  {
   "cell_type": "code",
   "execution_count": null,
   "metadata": {},
   "outputs": [],
   "source": [
    "import os\n",
    "import re"
   ]
  },
  {
   "cell_type": "code",
   "execution_count": null,
   "metadata": {},
   "outputs": [],
   "source": [
    "def fix_file_naming(directory, category_name):\n",
    "    \"\"\"\n",
    "    Deteksi inkonsistensi penamaan file dalam folder dan otomatis memperbaikinya.\n",
    "\n",
    "    Parameters:\n",
    "        directory (str): Path folder tempat file disimpan.\n",
    "        category_name (str): Nama kategori untuk standar penamaan file.\n",
    "    \"\"\"\n",
    "    # Mendapatkan semua file dalam direktori\n",
    "    files = os.listdir(directory)\n",
    "\n",
    "    # Filter hanya file dengan ekstensi gambar (jpg, png, jpeg)\n",
    "    image_files = [\n",
    "        f for f in files if re.search(r\"\\.(jpg|jpeg|png|bmp|gif)$\", f, re.IGNORECASE)\n",
    "    ]\n",
    "\n",
    "    # Sort file berdasarkan nama asli\n",
    "    image_files.sort()\n",
    "\n",
    "    print(f\"Jumlah file ditemukan: {len(image_files)}\")\n",
    "\n",
    "    # Rename file secara konsisten\n",
    "    for index, file in enumerate(image_files, start=1):\n",
    "        # Ekstrak ekstensi file\n",
    "        extension = os.path.splitext(file)[1]\n",
    "        # Format nama baru\n",
    "        new_name = f\"{category_name}_{index:03}{extension}\"\n",
    "        # Full path asli dan baru\n",
    "        old_path = os.path.join(directory, file)\n",
    "        new_path = os.path.join(directory, new_name)\n",
    "\n",
    "        # Rename file\n",
    "        os.rename(old_path, new_path)\n",
    "        print(f\"Renamed: {file} -> {new_name}\")\n",
    "\n"
   ]
  },
  {
   "cell_type": "code",
   "execution_count": null,
   "metadata": {},
   "outputs": [],
   "source": [
    "\n",
    "# Contoh penggunaan\n",
    "if __name__ == \"__main__\":\n",
    "    # Path ke direktori file\n",
    "    folder_path = r\"../data/external/Garbage classification/\"\n",
    "    # Nama kategori (sesuaikan dengan folder)\n",
    "    category = \"trash\"\n",
    "\n",
    "    # Jalankan fungsi perbaikan\n",
    "    fix_file_naming(folder_path, category)\n"
   ]
  }
 ],
 "metadata": {
  "kernelspec": {
   "display_name": "MachineLearning",
   "language": "python",
   "name": "python3"
  },
  "language_info": {
   "name": "python",
   "version": "3.12.7"
  }
 },
 "nbformat": 4,
 "nbformat_minor": 2
}
